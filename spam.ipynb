{
 "cells": [
  {
   "cell_type": "code",
   "execution_count": 1,
   "metadata": {},
   "outputs": [],
   "source": [
    "#Importing the libraries\n",
    "import pandas as pd\n",
    "import matplotlib.pyplot as plt\n",
    "import seaborn as sns\n",
    "from matplotlib.cbook import boxplot_stats  \n",
    "import statsmodels.api as sm\n",
    "from sklearn.model_selection import train_test_split,GridSearchCV, cross_val_score, cross_val_predict\n",
    "from statsmodels.stats.outliers_influence import variance_inflation_factor \n",
    "from sklearn.tree import DecisionTreeRegressor\n",
    "from sklearn import ensemble\n",
    "import numpy as np\n",
    "import pickle\n",
    "from sklearn.model_selection import train_test_split\n",
    "from sklearn.neighbors import KNeighborsClassifier as KNN\n",
    "from sklearn.linear_model import LogisticRegression\n",
    "from sklearn.tree import DecisionTreeClassifier\n",
    "from sklearn.ensemble import VotingClassifier\n",
    "from sklearn.ensemble import BaggingClassifier\n",
    "from sklearn.ensemble import RandomForestClassifier\n",
    "from sklearn.ensemble import AdaBoostClassifier\n",
    "from sklearn.metrics import roc_auc_score\n",
    "from sklearn.ensemble import GradientBoostingClassifier\n",
    "from sklearn.svm import LinearSVC, SVC\n",
    "from sklearn.neural_network import MLPClassifier\n",
    "from sklearn.feature_extraction.text import CountVectorizer\n",
    "from sklearn import ensemble \n",
    "from sklearn.metrics import classification_report, accuracy_score"
   ]
  },
  {
   "cell_type": "code",
   "execution_count": 2,
   "metadata": {},
   "outputs": [],
   "source": [
    "data = pd.read_csv(\"emails_V2.csv\")"
   ]
  },
  {
   "cell_type": "code",
   "execution_count": 3,
   "metadata": {},
   "outputs": [],
   "source": [
    "data.dropna(subset = [\"spam\"], inplace=True)"
   ]
  },
  {
   "cell_type": "code",
   "execution_count": 4,
   "metadata": {},
   "outputs": [],
   "source": [
    "data['text'] = data['text'].str.replace('Subject: ', '')"
   ]
  },
  {
   "cell_type": "code",
   "execution_count": 5,
   "metadata": {},
   "outputs": [
    {
     "data": {
      "text/html": [
       "<div>\n",
       "<style scoped>\n",
       "    .dataframe tbody tr th:only-of-type {\n",
       "        vertical-align: middle;\n",
       "    }\n",
       "\n",
       "    .dataframe tbody tr th {\n",
       "        vertical-align: top;\n",
       "    }\n",
       "\n",
       "    .dataframe thead th {\n",
       "        text-align: right;\n",
       "    }\n",
       "</style>\n",
       "<table border=\"1\" class=\"dataframe\">\n",
       "  <thead>\n",
       "    <tr style=\"text-align: right;\">\n",
       "      <th></th>\n",
       "      <th>text</th>\n",
       "      <th>spam</th>\n",
       "    </tr>\n",
       "  </thead>\n",
       "  <tbody>\n",
       "    <tr>\n",
       "      <th>0</th>\n",
       "      <td>naturally irresistible your corporate identity...</td>\n",
       "      <td>1.0</td>\n",
       "    </tr>\n",
       "    <tr>\n",
       "      <th>1</th>\n",
       "      <td>the stock trading gunslinger  fanny is merrill...</td>\n",
       "      <td>1.0</td>\n",
       "    </tr>\n",
       "    <tr>\n",
       "      <th>2</th>\n",
       "      <td>unbelievable new homes made easy  im wanting t...</td>\n",
       "      <td>1.0</td>\n",
       "    </tr>\n",
       "    <tr>\n",
       "      <th>3</th>\n",
       "      <td>4 color printing special  request additional i...</td>\n",
       "      <td>1.0</td>\n",
       "    </tr>\n",
       "    <tr>\n",
       "      <th>4</th>\n",
       "      <td>do not have money , get software cds from here...</td>\n",
       "      <td>1.0</td>\n",
       "    </tr>\n",
       "  </tbody>\n",
       "</table>\n",
       "</div>"
      ],
      "text/plain": [
       "                                                text  spam\n",
       "0  naturally irresistible your corporate identity...   1.0\n",
       "1  the stock trading gunslinger  fanny is merrill...   1.0\n",
       "2  unbelievable new homes made easy  im wanting t...   1.0\n",
       "3  4 color printing special  request additional i...   1.0\n",
       "4  do not have money , get software cds from here...   1.0"
      ]
     },
     "execution_count": 5,
     "metadata": {},
     "output_type": "execute_result"
    }
   ],
   "source": [
    "data.head()"
   ]
  },
  {
   "cell_type": "code",
   "execution_count": 6,
   "metadata": {},
   "outputs": [
    {
     "data": {
      "text/plain": [
       "1.0    1368\n",
       "0.0     675\n",
       "Name: spam, dtype: int64"
      ]
     },
     "execution_count": 6,
     "metadata": {},
     "output_type": "execute_result"
    }
   ],
   "source": [
    "data.spam.value_counts()"
   ]
  },
  {
   "cell_type": "code",
   "execution_count": 7,
   "metadata": {},
   "outputs": [
    {
     "data": {
      "text/plain": [
       "1.0    0.669604\n",
       "0.0    0.330396\n",
       "Name: spam, dtype: float64"
      ]
     },
     "execution_count": 7,
     "metadata": {},
     "output_type": "execute_result"
    }
   ],
   "source": [
    "data.spam.value_counts() / len(data)"
   ]
  },
  {
   "cell_type": "code",
   "execution_count": 8,
   "metadata": {},
   "outputs": [],
   "source": [
    "length_text = data.text.str.len()"
   ]
  },
  {
   "cell_type": "code",
   "execution_count": 9,
   "metadata": {
    "collapsed": true
   },
   "outputs": [
    {
     "data": {
      "text/plain": [
       "0       1475\n",
       "1        589\n",
       "2        439\n",
       "3        491\n",
       "4        226\n",
       "        ... \n",
       "2038     376\n",
       "2039     142\n",
       "2040     441\n",
       "2041    2008\n",
       "2042     464\n",
       "Name: text, Length: 2043, dtype: int64"
      ]
     },
     "execution_count": 9,
     "metadata": {},
     "output_type": "execute_result"
    }
   ],
   "source": [
    "length_text"
   ]
  },
  {
   "cell_type": "code",
   "execution_count": 12,
   "metadata": {},
   "outputs": [],
   "source": [
    "txt = data['text'][0:3]"
   ]
  },
  {
   "cell_type": "code",
   "execution_count": 13,
   "metadata": {},
   "outputs": [
    {
     "data": {
      "text/plain": [
       "0    naturally irresistible your corporate identity...\n",
       "1    the stock trading gunslinger  fanny is merrill...\n",
       "2    unbelievable new homes made easy  im wanting t...\n",
       "Name: text, dtype: object"
      ]
     },
     "execution_count": 13,
     "metadata": {},
     "output_type": "execute_result"
    }
   ],
   "source": [
    "txt"
   ]
  },
  {
   "cell_type": "code",
   "execution_count": 14,
   "metadata": {},
   "outputs": [],
   "source": [
    "#instantiate the class\n",
    "cv = CountVectorizer()"
   ]
  },
  {
   "cell_type": "code",
   "execution_count": 15,
   "metadata": {},
   "outputs": [
    {
     "data": {
      "text/plain": [
       "CountVectorizer()"
      ]
     },
     "execution_count": 15,
     "metadata": {},
     "output_type": "execute_result"
    }
   ],
   "source": [
    "#tokenize and build vocab\n",
    "cv.fit(txt)"
   ]
  },
  {
   "cell_type": "code",
   "execution_count": 16,
   "metadata": {},
   "outputs": [
    {
     "name": "stdout",
     "output_type": "stream",
     "text": [
      "{'naturally': 142, 'irresistible': 111, 'your': 226, 'corporate': 48, 'identity': 101, 'lt': 128, 'is': 112, 'really': 175, 'hard': 88, 'to': 206, 'recollect': 176, 'company': 43, 'the': 200, 'market': 132, 'full': 80, 'of': 147, 'suqgestions': 193, 'and': 10, 'information': 108, 'isoverwhelminq': 114, 'but': 29, 'good': 82, 'catchy': 30, 'logo': 124, 'stylish': 191, 'statlonery': 188, 'outstanding': 156, 'website': 218, 'will': 219, 'make': 130, 'task': 198, 'much': 139, 'easier': 61, 'we': 217, 'do': 55, 'not': 145, 'promise': 169, 'that': 199, 'havinq': 90, 'ordered': 152, 'iogo': 110, 'automaticaily': 18, 'become': 20, 'world': 223, 'ieader': 102, 'it': 115, 'isguite': 113, 'ciear': 37, 'without': 222, 'products': 168, 'effective': 64, 'business': 28, 'organization': 153, 'practicable': 166, 'aim': 6, 'be': 19, 'hotat': 99, 'nowadays': 146, 'marketing': 133, 'efforts': 65, 'more': 137, 'here': 95, 'list': 122, 'clear': 38, 'benefits': 24, 'creativeness': 49, 'hand': 87, 'made': 129, 'original': 154, 'logos': 125, 'specially': 186, 'done': 56, 'reflect': 177, 'distinctive': 54, 'image': 104, 'convenience': 47, 'stationery': 187, 'are': 13, 'provided': 172, 'in': 105, 'all': 8, 'formats': 77, 'easy': 62, 'use': 212, 'content': 45, 'management': 131, 'system': 195, 'letsyou': 118, 'change': 32, 'even': 68, 'its': 116, 'structure': 190, 'promptness': 170, 'you': 225, 'see': 181, 'drafts': 58, 'within': 221, 'three': 202, 'days': 51, 'affordability': 5, 'break': 26, 'through': 203, 'shouldn': 183, 'gaps': 81, 'budget': 27, '100': 0, 'satisfaction': 180, 'guaranteed': 84, 'provide': 171, 'unlimited': 211, 'amount': 9, 'changes': 33, 'with': 220, 'no': 144, 'extra': 70, 'fees': 73, 'for': 75, 'surethat': 194, 'love': 127, 'result': 178, 'this': 201, 'collaboration': 41, 'have': 89, 'look': 126, 'at': 15, 'our': 155, 'portfolio': 164, 'interested': 109, 'stock': 189, 'trading': 207, 'gunslinger': 85, 'fanny': 72, 'merrill': 135, 'muzo': 140, 'colza': 42, 'attainder': 16, 'penultimate': 158, 'like': 120, 'esmark': 67, 'perspicuous': 160, 'ramble': 173, 'segovia': 182, 'group': 83, 'try': 208, 'slung': 185, 'kansas': 117, 'tanzania': 197, 'yes': 224, 'chameleon': 31, 'or': 151, 'continuant': 46, 'clothesman': 40, 'libretto': 119, 'chesapeake': 34, 'tight': 204, 'waterway': 215, 'herald': 94, 'hawthorn': 91, 'chisel': 35, 'morristown': 138, 'superior': 192, 'deoxyribonucleic': 52, 'clockwork': 39, 'hall': 86, 'incredible': 106, 'mcdougall': 134, 'hepburn': 93, 'einsteinian': 66, 'earmark': 60, 'sapling': 179, 'boar': 25, 'duane': 59, 'plain': 163, 'palfrey': 157, 'inflexible': 107, 'huzzah': 100, 'pepperoni': 159, 'bedtime': 21, 'nameable': 141, 'attire': 17, 'edt': 63, 'chronography': 36, 'optima': 150, 'pirogue': 161, 'diffusion': 53, 'albeit': 7, 'unbelievable': 209, 'new': 143, 'homes': 98, 'im': 103, 'wanting': 214, 'show': 184, 'homeowner': 97, 'been': 22, 'pre': 167, 'approved': 12, '454': 2, '169': 1, 'home': 96, 'loan': 123, '72': 3, 'fixed': 74, 'rate': 174, 'offer': 148, 'being': 23, 'extended': 69, 'unconditionally': 210, 'credit': 50, 'way': 216, 'factor': 71, 'take': 196, 'advantage': 4, 'limited': 121, 'time': 205, 'opportunity': 149, 'ask': 14, 'visit': 213, 'complete': 44, 'minute': 136, 'post': 165, 'approval': 11, 'form': 76, 'foward': 78, 'hearing': 92, 'from': 79, 'dorcas': 57, 'pittman': 162}\n"
     ]
    }
   ],
   "source": [
    "print(cv.vocabulary_)"
   ]
  },
  {
   "cell_type": "code",
   "execution_count": 18,
   "metadata": {},
   "outputs": [
    {
     "name": "stdout",
     "output_type": "stream",
     "text": [
      "[[1 0 0 0 0 1 1 0 1 1 5 0 0 1 0 1 0 0 1 2 2 0 0 0 1 0 1 1 2 2 1 0 1 1 0 0\n",
      "  0 1 1 0 0 1 0 3 0 2 0 1 1 1 0 1 0 0 1 2 1 0 1 0 0 1 1 0 2 1 0 0 1 0 1 0\n",
      "  0 1 0 1 0 1 0 0 1 1 2 0 1 0 0 1 1 1 1 0 0 0 0 1 0 0 0 1 0 1 1 0 1 2 0 0\n",
      "  1 1 1 1 3 1 1 2 1 0 1 0 0 0 1 0 3 1 1 1 1 1 2 1 2 2 0 0 0 1 0 2 0 0 1 0\n",
      "  1 2 1 4 0 0 0 0 1 1 1 1 1 0 0 0 0 0 0 0 1 0 1 0 1 2 1 1 1 0 0 1 1 1 1 0\n",
      "  1 1 0 1 0 0 1 1 1 0 1 1 0 1 1 1 0 0 1 3 5 1 1 1 0 0 4 0 0 0 0 1 1 0 0 0\n",
      "  0 3 2 6 1 1 1 1 0 3 7]\n",
      " [0 0 0 0 0 0 0 1 0 0 3 0 0 0 0 0 1 1 0 0 0 1 0 0 0 1 0 0 0 3 0 1 0 0 1 1\n",
      "  1 0 0 1 1 0 1 0 0 0 1 0 0 0 0 0 1 1 0 0 0 0 0 1 1 0 0 1 0 0 1 1 0 0 0 0\n",
      "  1 0 0 0 0 0 0 0 0 0 0 1 0 1 1 0 0 0 0 1 0 1 1 0 0 0 0 0 1 0 0 0 0 0 1 1\n",
      "  0 0 0 0 6 0 0 0 0 1 0 1 3 0 0 0 0 0 0 0 0 0 0 0 0 0 1 1 0 0 1 0 1 1 0 0\n",
      "  3 6 0 0 0 0 1 3 0 0 0 0 0 1 1 1 1 1 0 1 0 0 0 0 0 0 0 0 0 1 0 0 0 0 0 1\n",
      "  0 0 1 0 0 1 0 0 0 1 0 0 1 0 0 0 0 1 0 0 1 0 0 0 1 0 0 1 3 0 0 0 0 0 0 1\n",
      "  0 0 0 0 0 0 0 0 3 0 0]\n",
      " [0 1 1 1 1 0 0 0 1 0 2 1 1 0 1 1 0 0 0 0 0 0 1 1 0 0 0 0 0 0 0 0 0 0 0 0\n",
      "  0 0 0 0 0 0 0 0 1 0 0 0 0 0 1 0 0 0 0 0 0 1 0 0 0 0 1 0 0 0 0 0 0 1 0 1\n",
      "  0 0 1 1 1 0 1 1 0 0 0 0 0 0 0 0 0 1 0 0 1 0 0 0 1 1 1 0 0 0 0 1 0 1 0 0\n",
      "  0 0 0 0 3 0 0 0 0 0 0 0 0 1 0 1 0 0 1 0 0 1 0 0 0 0 0 0 1 0 0 0 0 0 0 1\n",
      "  1 0 0 1 1 1 0 0 0 0 0 1 0 0 0 0 0 0 1 0 0 1 0 1 0 0 0 0 0 0 1 0 0 0 0 0\n",
      "  0 0 0 0 1 0 0 0 0 0 0 0 0 0 0 0 1 0 0 1 1 3 0 0 0 1 4 0 0 1 1 0 0 1 1 0\n",
      "  1 1 1 0 0 0 0 0 0 5 1]]\n"
     ]
    }
   ],
   "source": [
    "#transform the text\n",
    "vector = cv.transform(txt)\n",
    "print(vector.toarray())"
   ]
  },
  {
   "cell_type": "markdown",
   "metadata": {},
   "source": [
    "## Bag of words"
   ]
  },
  {
   "cell_type": "code",
   "execution_count": 24,
   "metadata": {},
   "outputs": [],
   "source": [
    "txt_vec = CountVectorizer().fit_transform(data['text'])"
   ]
  },
  {
   "cell_type": "code",
   "execution_count": 25,
   "metadata": {},
   "outputs": [],
   "source": [
    "X_train, X_test, y_train, y_test = train_test_split(txt_vec, data['spam'], test_size = 0.2, \n",
    "                                                    random_state = 2, shuffle = True)"
   ]
  },
  {
   "cell_type": "markdown",
   "metadata": {},
   "source": [
    "## Classification"
   ]
  },
  {
   "cell_type": "code",
   "execution_count": 26,
   "metadata": {},
   "outputs": [],
   "source": [
    "classifier = ensemble.GradientBoostingClassifier(\n",
    "    n_estimators = 100, #how many decision trees to build\n",
    "    learning_rate = 0.5, #learning rate\n",
    "    max_depth = 6\n",
    ")"
   ]
  },
  {
   "cell_type": "markdown",
   "metadata": {},
   "source": [
    "## Prediction"
   ]
  },
  {
   "cell_type": "code",
   "execution_count": 27,
   "metadata": {},
   "outputs": [
    {
     "data": {
      "text/plain": [
       "GradientBoostingClassifier(learning_rate=0.5, max_depth=6)"
      ]
     },
     "execution_count": 27,
     "metadata": {},
     "output_type": "execute_result"
    }
   ],
   "source": [
    "classifier.fit(X_train, y_train)"
   ]
  },
  {
   "cell_type": "code",
   "execution_count": 28,
   "metadata": {},
   "outputs": [],
   "source": [
    "predictions = classifier.predict(X_test)"
   ]
  },
  {
   "cell_type": "code",
   "execution_count": 29,
   "metadata": {},
   "outputs": [
    {
     "name": "stdout",
     "output_type": "stream",
     "text": [
      "              precision    recall  f1-score   support\n",
      "\n",
      "         0.0       0.99      0.91      0.95       139\n",
      "         1.0       0.96      1.00      0.98       270\n",
      "\n",
      "    accuracy                           0.97       409\n",
      "   macro avg       0.97      0.95      0.96       409\n",
      "weighted avg       0.97      0.97      0.97       409\n",
      "\n"
     ]
    }
   ],
   "source": [
    "print(classification_report(y_test, predictions))"
   ]
  }
 ],
 "metadata": {
  "kernelspec": {
   "display_name": "Python 3",
   "language": "python",
   "name": "python3"
  },
  "language_info": {
   "codemirror_mode": {
    "name": "ipython",
    "version": 3
   },
   "file_extension": ".py",
   "mimetype": "text/x-python",
   "name": "python",
   "nbconvert_exporter": "python",
   "pygments_lexer": "ipython3",
   "version": "3.8.5"
  }
 },
 "nbformat": 4,
 "nbformat_minor": 4
}
